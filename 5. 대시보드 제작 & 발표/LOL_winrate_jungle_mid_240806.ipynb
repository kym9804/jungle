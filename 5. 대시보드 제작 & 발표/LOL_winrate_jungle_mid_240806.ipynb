{
 "cells": [
  {
   "cell_type": "code",
   "execution_count": null,
   "metadata": {},
   "outputs": [],
   "source": [
    "import pandas as pd\n",
    "\n",
    "#데이터셋 로드\n",
    "df = pd.read_csv('LOL_match data_Combined.csv')\n",
    "\n",
    "#티어-matchID당 데이터가 10개가 아닌 경우는 제외(챔피언 정보가 다 들어가야 10개이므로)\n",
    "#그냥 matchID로 보면 이상치 존재(티어는 다른데 매치ID가 같은 경우 → 데이터 수집 과정에서 발생)\n",
    "df_grouped = df.groupby(['Tier','matchId']).count()\n",
    "invalid_matchIds = df_grouped[df_grouped['gameType'] != 10].index.tolist()\n",
    "\n",
    "#티어-matchID 조합에서는 이상치가 없는 것 확인\n",
    "len(invalid_matchIds)\n",
    "\n",
    "#팀 포지션이 비어있는 경우의 매치ID를 제외\n",
    "matchid_invalid_position = df[df['teamPosition'].isnull()]['matchId'].unique()\n",
    "df = df[~df['matchId'].isin(matchid_invalid_position)]\n",
    "\n",
    "#경기시간 600초 초과 & 경험치 0 초과, 시즌14 마스크 적용\n",
    "mask = (df['timePlayed'] > 600) & (df['champExperience'] > 0)\n",
    "df_filtered = df[mask]\n",
    "df_filtered['season'] = df_filtered['gameType'].str[:2]\n",
    "season_mask = (df_filtered['season'] == '14')\n",
    "df_filtered = df_filtered[season_mask]\n",
    "\n",
    "# matchID별 win 컬럼이 TRUE와 FALSE의 비율이 5:5가 되는 matchId만 추출\n",
    "balanced_df = df_filtered.groupby('matchId').filter(lambda x: (x['win'].sum() == 5) & (x['win'].count() - x['win'].sum() == 5))"
   ]
  },
  {
   "cell_type": "code",
   "execution_count": null,
   "metadata": {},
   "outputs": [],
   "source": [
    "\n",
    "# teamPosition이 JUNGLE 또는 MIDDLE인 데이터만 추출하고 기본적인 컬럼만 포함\n",
    "df_jungle_mid = balanced_df[balanced_df['teamPosition'].isin(['JUNGLE', 'MIDDLE'])][['matchId', 'teamPosition', 'championName', 'win', 'teamId']]\n",
    "df_jungle_mid"
   ]
  },
  {
   "cell_type": "code",
   "execution_count": null,
   "metadata": {},
   "outputs": [],
   "source": [
    "# df_jungle_mid의 각 matchId에 대해 조건을 확인하는 함수\n",
    "def validate_match_groups(df):\n",
    "    valid_match_ids = []\n",
    "    for match_id, group in df.groupby('matchId'):\n",
    "        if len(group) == 4:\n",
    "            team_ids = group['teamId'].values\n",
    "            wins = group['win'].values\n",
    "            if (list(team_ids).count(100) == 2 and list(team_ids).count(200) == 2 and\n",
    "                ((wins[:2] == [True, True]).all() and (wins[2:] == [False, False]).all()) or\n",
    "                ((wins[:2] == [False, False]).all() and (wins[2:] == [True, True]).all())):\n",
    "                valid_match_ids.append(match_id)\n",
    "    return valid_match_ids\n",
    "\n",
    "# 유효한 matchId 리스트를 확인\n",
    "valid_match_ids = validate_match_groups(df_jungle_mid)\n",
    "\n",
    "# 유효한 matchId를 가진 데이터프레임 필터링\n",
    "valid_df = df_jungle_mid[df_jungle_mid['matchId'].isin(valid_match_ids)]\n",
    "valid_df"
   ]
  },
  {
   "cell_type": "code",
   "execution_count": null,
   "metadata": {},
   "outputs": [],
   "source": [
    "# 같은 matchId에서 JUNGLE과 MIDDLE의 championName 조합을 추출\n",
    "combinations = []\n",
    "\n",
    "for match_id, group in valid_df.groupby('matchId'):\n",
    "    for team_id in [100, 200]:\n",
    "        team_group = group[group['teamId'] == team_id]\n",
    "        junglers = team_group[team_group['teamPosition'] == 'JUNGLE']['championName'].values\n",
    "        middlers = team_group[team_group['teamPosition'] == 'MIDDLE']['championName'].values\n",
    "        win = team_group['win'].values[0]  # 해당 팀의 승리 여부\n",
    "        if len(junglers) > 0 and len(middlers) > 0:\n",
    "            combinations.extend([(jungle, middle, win) for jungle in junglers for middle in middlers])\n",
    "\n",
    "# DataFrame으로 변환\n",
    "combinations_df = pd.DataFrame(combinations, columns=['JungleChampion', 'MiddleChampion', 'win'])\n",
    "\n",
    "# 조합 별 승률 계산\n",
    "win_rates = combinations_df.groupby(['JungleChampion', 'MiddleChampion']).agg(\n",
    "    games_played=('win', 'count'),\n",
    "    wins=('win', 'sum')\n",
    ").reset_index()\n",
    "\n",
    "win_rates['win_rate'] = (win_rates['wins'] / win_rates['games_played'] * 100 ).round(2)\n",
    "win_rates = win_rates.sort_values(by='games_played', ascending=False).reset_index(drop=True)\n",
    "win_rates"
   ]
  }
 ],
 "metadata": {
  "language_info": {
   "name": "python"
  }
 },
 "nbformat": 4,
 "nbformat_minor": 2
}
