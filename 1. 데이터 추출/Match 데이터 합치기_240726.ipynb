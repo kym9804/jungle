{
 "cells": [
  {
   "cell_type": "code",
   "execution_count": null,
   "id": "cb412841",
   "metadata": {},
   "outputs": [],
   "source": [
    "import pandas as pd\n",
    "\n",
    "# 제공된 CSV 파일을 불러옵니다\n",
    "sample_filtered_data = pd.read_csv('sample_filtered_data.csv')#매치 ID 데이터 파일 넣기 (ID만 있는거)\n",
    "\n",
    "# 고유한 matchId를 제거하고 그 수를 셉니다\n",
    "unique_match_ids = sample_filtered_data['matchId'].drop_duplicates()\n",
    "unique_match_count = unique_match_ids.count()\n",
    "\n",
    "print(f\"고유한 matchId의 수: {unique_match_count}\")\n",
    "\n",
    "# 데이터프레임을 저장할 빈 리스트를 초기화합니다\n",
    "dataframes = []\n",
    "\n",
    "# 파일 번호 범위를 반복하면서 각 CSV 파일을 읽어옵니다\n",
    "for i in range(1, 21):\n",
    "    file_path = f'sample_timeline_batch_{i}.csv'#sample_timeline_batch어쩌구를 본인 티어 배치 저장된 파일명으로 바꾸기\n",
    "    try:\n",
    "        df = pd.read_csv(file_path)\n",
    "        dataframes.append(df)\n",
    "    except FileNotFoundError:\n",
    "        print(f\"파일을 찾을 수 없습니다: {file_path}\")\n",
    "        continue\n",
    "\n",
    "# 모든 데이터프레임을 하나로 병합합니다\n",
    "if dataframes:\n",
    "    merged_dataframe = pd.concat(dataframes, ignore_index=True)\n",
    "\n",
    "    # 병합된 데이터프레임을 새로운 CSV 파일로 저장합니다\n",
    "    merged_csv_path = 'merged_sample_timeline.csv'#원하는 파일명으로 바꾸기\n",
    "    merged_dataframe.to_csv(merged_csv_path, index=False)\n",
    "\n",
    "    print(f\"병합된 CSV 파일이 저장되었습니다: {merged_csv_path}\")\n",
    "else:\n",
    "    print(\"병합된 파일이 없습니다.\")"
   ]
  }
 ],
 "metadata": {
  "kernelspec": {
   "display_name": "Python 3 (ipykernel)",
   "language": "python",
   "name": "python3"
  },
  "language_info": {
   "codemirror_mode": {
    "name": "ipython",
    "version": 3
   },
   "file_extension": ".py",
   "mimetype": "text/x-python",
   "name": "python",
   "nbconvert_exporter": "python",
   "pygments_lexer": "ipython3",
   "version": "3.11.7"
  }
 },
 "nbformat": 4,
 "nbformat_minor": 5
}
